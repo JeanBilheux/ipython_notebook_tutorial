{
 "metadata": {
  "name": "",
  "signature": "sha256:a637f2e1de7d2544288b8e16ad766c84103231ccae352ea25898bcd2dd1211b3"
 },
 "nbformat": 3,
 "nbformat_minor": 0,
 "worksheets": []
}